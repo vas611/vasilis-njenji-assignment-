{
 "cells": [
  {
   "cell_type": "markdown",
   "id": "69560961-7a5a-42fe-820b-0b1dce01e741",
   "metadata": {},
   "source": [
    "# Markdown Cell"
   ]
  },
  {
   "cell_type": "markdown",
   "id": "0ec8cc0f-ca5f-49dd-823f-ef3174f1e075",
   "metadata": {},
   "source": [
    "This is a markdown cell"
   ]
  },
  {
   "cell_type": "markdown",
   "id": "e4460929-feb0-4706-9fe2-a4362fd4b5ea",
   "metadata": {},
   "source": [
    "**This is a bold text**"
   ]
  },
  {
   "cell_type": "markdown",
   "id": "e47641f7-827c-4814-950f-fa1e76395a40",
   "metadata": {},
   "source": [
    "*This text is italicized*"
   ]
  },
  {
   "cell_type": "code",
   "execution_count": 5,
   "id": "7da48836-6bd4-4e07-a5f7-d282db4a6cfe",
   "metadata": {},
   "outputs": [
    {
     "name": "stdout",
     "output_type": "stream",
     "text": [
      "25\n"
     ]
    }
   ],
   "source": [
    "y = 25 \n",
    "print(y)"
   ]
  },
  {
   "cell_type": "markdown",
   "id": "882b365d-2e6b-467a-87f2-831df48ef236",
   "metadata": {},
   "source": [
    "The weather is clear today.<br>Hopefully it doesn't rain."
   ]
  },
  {
   "cell_type": "markdown",
   "id": "8a9a9f39-40f4-488b-a36d-c41992a05939",
   "metadata": {},
   "source": [
    "* apples\n",
    "* oranges\n",
    "* bananas\n",
    "* tomatoes"
   ]
  },
  {
   "cell_type": "markdown",
   "id": "53f28d5d-1fb4-4b9e-b14a-085c738134fb",
   "metadata": {},
   "source": [
    "---"
   ]
  },
  {
   "cell_type": "code",
   "execution_count": null,
   "id": "ba4a746d-0a29-4ebc-bdc5-c0ae2f257529",
   "metadata": {},
   "outputs": [],
   "source": []
  }
 ],
 "metadata": {
  "kernelspec": {
   "display_name": "Python 3 (ipykernel)",
   "language": "python",
   "name": "python3"
  },
  "language_info": {
   "codemirror_mode": {
    "name": "ipython",
    "version": 3
   },
   "file_extension": ".py",
   "mimetype": "text/x-python",
   "name": "python",
   "nbconvert_exporter": "python",
   "pygments_lexer": "ipython3",
   "version": "3.11.7"
  }
 },
 "nbformat": 4,
 "nbformat_minor": 5
}
